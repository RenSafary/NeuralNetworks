{
 "cells": [
  {
   "cell_type": "code",
   "execution_count": 95,
   "metadata": {},
   "outputs": [],
   "source": [
    "import torch \n",
    "import torch.nn as nn\n",
    "import torch.optim as optim"
   ]
  },
  {
   "cell_type": "code",
   "execution_count": 96,
   "metadata": {},
   "outputs": [],
   "source": [
    "study_hours = torch.FloatTensor([10, 5, 20, 8]).view(-1, 1)\n",
    "score_by_hours = torch.FloatTensor([75, 60, 90, 70]).view(-1, 1)"
   ]
  },
  {
   "cell_type": "code",
   "execution_count": 97,
   "metadata": {},
   "outputs": [],
   "source": [
    "class NeuralNet(nn.Module):\n",
    "    def __init__(self):\n",
    "        super(NeuralNet, self).__init__()\n",
    "        self.linear = nn.Linear(1, 1)\n",
    "\n",
    "    def forward(self, x):\n",
    "        return self.linear(x)"
   ]
  },
  {
   "cell_type": "code",
   "execution_count": 98,
   "metadata": {},
   "outputs": [],
   "source": [
    "model = NeuralNet()\n",
    "\n",
    "criterion = nn.MSELoss()\n",
    "optimizer = optim.SGD(model.parameters(), lr=0.0001)"
   ]
  },
  {
   "cell_type": "code",
   "execution_count": 99,
   "metadata": {},
   "outputs": [
    {
     "name": "stdout",
     "output_type": "stream",
     "text": [
      "Epoch 1000/100000, Loss: 557.140\n",
      "Epoch 2000/100000, Loss: 511.812\n",
      "Epoch 3000/100000, Loss: 470.203\n",
      "Epoch 4000/100000, Loss: 432.009\n",
      "Epoch 5000/100000, Loss: 396.949\n",
      "Epoch 6000/100000, Loss: 364.766\n",
      "Epoch 7000/100000, Loss: 335.224\n",
      "Epoch 8000/100000, Loss: 308.106\n",
      "Epoch 9000/100000, Loss: 283.214\n",
      "Epoch 10000/100000, Loss: 260.364\n",
      "Epoch 11000/100000, Loss: 239.389\n",
      "Epoch 12000/100000, Loss: 220.136\n",
      "Epoch 13000/100000, Loss: 202.462\n",
      "Epoch 14000/100000, Loss: 186.238\n",
      "Epoch 15000/100000, Loss: 171.346\n",
      "Epoch 16000/100000, Loss: 157.676\n",
      "Epoch 17000/100000, Loss: 145.128\n",
      "Epoch 18000/100000, Loss: 133.609\n",
      "Epoch 19000/100000, Loss: 123.036\n",
      "Epoch 20000/100000, Loss: 113.330\n",
      "Epoch 21000/100000, Loss: 104.421\n",
      "Epoch 22000/100000, Loss: 96.242\n",
      "Epoch 23000/100000, Loss: 88.735\n",
      "Epoch 24000/100000, Loss: 81.844\n",
      "Epoch 25000/100000, Loss: 75.518\n",
      "Epoch 26000/100000, Loss: 69.712\n",
      "Epoch 27000/100000, Loss: 64.382\n",
      "Epoch 28000/100000, Loss: 59.490\n",
      "Epoch 29000/100000, Loss: 54.998\n",
      "Epoch 30000/100000, Loss: 50.876\n",
      "Epoch 31000/100000, Loss: 47.091\n",
      "Epoch 32000/100000, Loss: 43.618\n",
      "Epoch 33000/100000, Loss: 40.429\n",
      "Epoch 34000/100000, Loss: 37.502\n",
      "Epoch 35000/100000, Loss: 34.815\n",
      "Epoch 36000/100000, Loss: 32.349\n",
      "Epoch 37000/100000, Loss: 30.085\n",
      "Epoch 38000/100000, Loss: 28.006\n",
      "Epoch 39000/100000, Loss: 26.099\n",
      "Epoch 40000/100000, Loss: 24.348\n",
      "Epoch 41000/100000, Loss: 22.740\n",
      "Epoch 42000/100000, Loss: 21.265\n",
      "Epoch 43000/100000, Loss: 19.910\n",
      "Epoch 44000/100000, Loss: 18.667\n",
      "Epoch 45000/100000, Loss: 17.525\n",
      "Epoch 46000/100000, Loss: 16.478\n",
      "Epoch 47000/100000, Loss: 15.516\n",
      "Epoch 48000/100000, Loss: 14.634\n",
      "Epoch 49000/100000, Loss: 13.823\n",
      "Epoch 50000/100000, Loss: 13.079\n",
      "Epoch 51000/100000, Loss: 12.397\n",
      "Epoch 52000/100000, Loss: 11.770\n",
      "Epoch 53000/100000, Loss: 11.194\n",
      "Epoch 54000/100000, Loss: 10.666\n",
      "Epoch 55000/100000, Loss: 10.182\n",
      "Epoch 56000/100000, Loss: 9.737\n",
      "Epoch 57000/100000, Loss: 9.328\n",
      "Epoch 58000/100000, Loss: 8.953\n",
      "Epoch 59000/100000, Loss: 8.609\n",
      "Epoch 60000/100000, Loss: 8.293\n",
      "Epoch 61000/100000, Loss: 8.003\n",
      "Epoch 62000/100000, Loss: 7.737\n",
      "Epoch 63000/100000, Loss: 7.493\n",
      "Epoch 64000/100000, Loss: 7.268\n",
      "Epoch 65000/100000, Loss: 7.062\n",
      "Epoch 66000/100000, Loss: 6.873\n",
      "Epoch 67000/100000, Loss: 6.700\n",
      "Epoch 68000/100000, Loss: 6.540\n",
      "Epoch 69000/100000, Loss: 6.394\n",
      "Epoch 70000/100000, Loss: 6.260\n",
      "Epoch 71000/100000, Loss: 6.137\n",
      "Epoch 72000/100000, Loss: 6.024\n",
      "Epoch 73000/100000, Loss: 5.920\n",
      "Epoch 74000/100000, Loss: 5.825\n",
      "Epoch 75000/100000, Loss: 5.737\n",
      "Epoch 76000/100000, Loss: 5.657\n",
      "Epoch 77000/100000, Loss: 5.583\n",
      "Epoch 78000/100000, Loss: 5.516\n",
      "Epoch 79000/100000, Loss: 5.453\n",
      "Epoch 80000/100000, Loss: 5.396\n",
      "Epoch 81000/100000, Loss: 5.344\n",
      "Epoch 82000/100000, Loss: 5.296\n",
      "Epoch 83000/100000, Loss: 5.252\n",
      "Epoch 84000/100000, Loss: 5.211\n",
      "Epoch 85000/100000, Loss: 5.174\n",
      "Epoch 86000/100000, Loss: 5.140\n",
      "Epoch 87000/100000, Loss: 5.109\n",
      "Epoch 88000/100000, Loss: 5.080\n",
      "Epoch 89000/100000, Loss: 5.054\n",
      "Epoch 90000/100000, Loss: 5.029\n",
      "Epoch 91000/100000, Loss: 5.007\n",
      "Epoch 92000/100000, Loss: 4.987\n",
      "Epoch 93000/100000, Loss: 4.968\n",
      "Epoch 94000/100000, Loss: 4.951\n",
      "Epoch 95000/100000, Loss: 4.935\n",
      "Epoch 96000/100000, Loss: 4.921\n",
      "Epoch 97000/100000, Loss: 4.907\n",
      "Epoch 98000/100000, Loss: 4.895\n",
      "Epoch 99000/100000, Loss: 4.884\n",
      "Epoch 100000/100000, Loss: 4.874\n"
     ]
    }
   ],
   "source": [
    "for epoch in range(100000):\n",
    "    optimizer.zero_grad()\n",
    "    predictions = model(study_hours)\n",
    "    loss = criterion(predictions, score_by_hours) \n",
    "    loss.backward()\n",
    "    optimizer.step()\n",
    "\n",
    "    if (epoch + 1) % 1000 == 0:\n",
    "        print(f'Epoch {epoch + 1}/{100000}, Loss: {loss.item():.3f}')"
   ]
  },
  {
   "cell_type": "code",
   "execution_count": 100,
   "metadata": {},
   "outputs": [
    {
     "name": "stdout",
     "output_type": "stream",
     "text": [
      "Predicted score: 62.45\n"
     ]
    }
   ],
   "source": [
    "hours_to_predict = torch.FloatTensor([5.0]).view(-1, 1)\n",
    "prediction = model(hours_to_predict).item()\n",
    "\n",
    "print(f'Predicted score: {prediction:.2f}')"
   ]
  }
 ],
 "metadata": {
  "kernelspec": {
   "display_name": "Python 3",
   "language": "python",
   "name": "python3"
  },
  "language_info": {
   "codemirror_mode": {
    "name": "ipython",
    "version": 3
   },
   "file_extension": ".py",
   "mimetype": "text/x-python",
   "name": "python",
   "nbconvert_exporter": "python",
   "pygments_lexer": "ipython3",
   "version": "3.11.1"
  }
 },
 "nbformat": 4,
 "nbformat_minor": 2
}

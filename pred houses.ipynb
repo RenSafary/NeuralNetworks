{
 "cells": [
  {
   "cell_type": "code",
   "execution_count": 176,
   "metadata": {},
   "outputs": [],
   "source": [
    "import torch\n",
    "import torch.nn as nn\n",
    "import torch.optim as optim"
   ]
  },
  {
   "cell_type": "code",
   "execution_count": 177,
   "metadata": {},
   "outputs": [],
   "source": [
    "square = torch.FloatTensor([150, 120, 200, 100]).view(-1, 1)\n",
    "bedrooms = torch.FloatTensor([3, 2, 4, 2]).view(-1, 1)\n",
    "distance = torch.FloatTensor([2.5, 1.8, 3.0, 1.5]).view(-1, 1)\n",
    "cost = torch.FloatTensor([300000, 250000, 400000, 200000]).view(-1, 1)\n",
    "\n",
    "input_data = torch.cat((square, bedrooms, distance), dim=1)"
   ]
  },
  {
   "cell_type": "code",
   "execution_count": 178,
   "metadata": {},
   "outputs": [],
   "source": [
    "class NeuralNet(nn.Module):\n",
    "    def __init__(self, input_size, hidden_size, output_size):\n",
    "        super(NeuralNet, self).__init__()\n",
    "        self.layer1 = nn.Linear(input_size, hidden_size)\n",
    "        self.act = nn.ReLU()\n",
    "        self.layer2 = nn.Linear(hidden_size, output_size)\n",
    "\n",
    "    def forward(self, x):\n",
    "        x = self.layer1(x)\n",
    "        x = self.act(x)\n",
    "        x = self.layer2(x)\n",
    "        return x"
   ]
  },
  {
   "cell_type": "code",
   "execution_count": 179,
   "metadata": {},
   "outputs": [],
   "source": [
    "model = NeuralNet(input_size=3, hidden_size=64, output_size=1)\n",
    "\n",
    "criterion = nn.MSELoss()\n",
    "optimizer = optim.SGD(model.parameters(), lr=0.0001)"
   ]
  },
  {
   "cell_type": "code",
   "execution_count": 180,
   "metadata": {},
   "outputs": [
    {
     "name": "stdout",
     "output_type": "stream",
     "text": [
      "Epoch 1000/30000, Loss: 363240456192.0000\n",
      "Epoch 2000/30000, Loss: 245280538624.0000\n",
      "Epoch 3000/30000, Loss: 166212993024.0000\n",
      "Epoch 4000/30000, Loss: 113214554112.0000\n",
      "Epoch 5000/30000, Loss: 77690044416.0000\n",
      "Epoch 6000/30000, Loss: 53878198272.0000\n",
      "Epoch 7000/30000, Loss: 37917188096.0000\n",
      "Epoch 8000/30000, Loss: 27218726912.0000\n",
      "Epoch 9000/30000, Loss: 20047603712.0000\n",
      "Epoch 10000/30000, Loss: 15240851456.0000\n",
      "Epoch 11000/30000, Loss: 12018922496.0000\n",
      "Epoch 12000/30000, Loss: 9859280896.0000\n",
      "Epoch 13000/30000, Loss: 8411680256.0000\n",
      "Epoch 14000/30000, Loss: 7441375232.0000\n",
      "Epoch 15000/30000, Loss: 6790988288.0000\n",
      "Epoch 16000/30000, Loss: 6355039232.0000\n",
      "Epoch 17000/30000, Loss: 6062826496.0000\n",
      "Epoch 18000/30000, Loss: 5866952192.0000\n",
      "Epoch 19000/30000, Loss: 5735657984.0000\n",
      "Epoch 20000/30000, Loss: 5647660032.0000\n",
      "Epoch 21000/30000, Loss: 5588675072.0000\n",
      "Epoch 22000/30000, Loss: 5549132800.0000\n",
      "Epoch 23000/30000, Loss: 5522633216.0000\n",
      "Epoch 24000/30000, Loss: 5504864256.0000\n",
      "Epoch 25000/30000, Loss: 5492956160.0000\n",
      "Epoch 26000/30000, Loss: 5484979200.0000\n",
      "Epoch 27000/30000, Loss: 5479629824.0000\n",
      "Epoch 28000/30000, Loss: 5476042240.0000\n",
      "Epoch 29000/30000, Loss: 5473640448.0000\n",
      "Epoch 30000/30000, Loss: 5472025088.0000\n"
     ]
    }
   ],
   "source": [
    "for epoch in range(30000):\n",
    "    optimizer.zero_grad()\n",
    "    prediction = model(input_data)\n",
    "    loss = criterion(prediction, cost.view_as(prediction))\n",
    "    loss.backward()\n",
    "    optimizer.step()\n",
    "\n",
    "    if (epoch + 1) % 1000 == 0:\n",
    "        print(f'Epoch {epoch + 1}/{30000}, Loss: {loss.item():.4f}')"
   ]
  },
  {
   "cell_type": "code",
   "execution_count": 181,
   "metadata": {},
   "outputs": [
    {
     "name": "stdout",
     "output_type": "stream",
     "text": [
      "Predicted cost for the new house: 285690.625\n"
     ]
    }
   ],
   "source": [
    "new_house = torch.FloatTensor([150, 3.0, 2.5]).view(1, -1)\n",
    "prediction = model(new_house)\n",
    "\n",
    "print(\"Predicted cost for the new house:\", prediction.item())"
   ]
  }
 ],
 "metadata": {
  "kernelspec": {
   "display_name": "Python 3",
   "language": "python",
   "name": "python3"
  },
  "language_info": {
   "codemirror_mode": {
    "name": "ipython",
    "version": 3
   },
   "file_extension": ".py",
   "mimetype": "text/x-python",
   "name": "python",
   "nbconvert_exporter": "python",
   "pygments_lexer": "ipython3",
   "version": "3.11.1"
  }
 },
 "nbformat": 4,
 "nbformat_minor": 2
}
